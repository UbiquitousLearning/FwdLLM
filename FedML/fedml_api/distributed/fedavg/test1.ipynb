{
 "cells": [
  {
   "cell_type": "code",
   "execution_count": 1,
   "metadata": {},
   "outputs": [],
   "source": [
    "import torch\n",
    "import utils"
   ]
  },
  {
   "cell_type": "code",
   "execution_count": 2,
   "metadata": {},
   "outputs": [],
   "source": [
    "a = torch.randn((768,768))\n"
   ]
  },
  {
   "cell_type": "code",
   "execution_count": 3,
   "metadata": {},
   "outputs": [],
   "source": [
    "d,error = utils.quantize_tensor(a)"
   ]
  },
  {
   "cell_type": "code",
   "execution_count": 4,
   "metadata": {},
   "outputs": [],
   "source": [
    "q = utils.dequantize(d)"
   ]
  },
  {
   "cell_type": "code",
   "execution_count": 5,
   "metadata": {},
   "outputs": [
    {
     "data": {
      "text/plain": [
       "tensor([[ 0.0025,  0.0032,  0.0147,  ...,  0.0075, -0.0063,  0.0044],\n",
       "        [-0.0090, -0.0044,  0.0020,  ..., -0.0062, -0.0156,  0.0076],\n",
       "        [-0.0113, -0.0081,  0.0122,  ...,  0.0058, -0.0137, -0.0074],\n",
       "        ...,\n",
       "        [-0.0099,  0.0042,  0.0041,  ..., -0.0069,  0.0170, -0.0171],\n",
       "        [-0.0109,  0.0162, -0.0173,  ...,  0.0136,  0.0010,  0.0111],\n",
       "        [-0.0107, -0.0034, -0.0043,  ...,  0.0108,  0.0095, -0.0062]])"
      ]
     },
     "execution_count": 5,
     "metadata": {},
     "output_type": "execute_result"
    }
   ],
   "source": [
    "a-q"
   ]
  },
  {
   "cell_type": "code",
   "execution_count": 7,
   "metadata": {},
   "outputs": [
    {
     "data": {
      "text/plain": [
       "tensor([[True, True, True,  ..., True, True, True],\n",
       "        [True, True, True,  ..., True, True, True],\n",
       "        [True, True, True,  ..., True, True, True],\n",
       "        ...,\n",
       "        [True, True, True,  ..., True, True, True],\n",
       "        [True, True, True,  ..., True, True, True],\n",
       "        [True, True, True,  ..., True, True, True]])"
      ]
     },
     "execution_count": 7,
     "metadata": {},
     "output_type": "execute_result"
    }
   ],
   "source": [
    "error==a-q"
   ]
  },
  {
   "cell_type": "code",
   "execution_count": 12,
   "metadata": {},
   "outputs": [
    {
     "data": {
      "text/plain": [
       "tensor(5500.9087)"
      ]
     },
     "execution_count": 12,
     "metadata": {},
     "output_type": "execute_result"
    }
   ],
   "source": [
    "abs(q-a).sum()"
   ]
  },
  {
   "cell_type": "code",
   "execution_count": 13,
   "metadata": {},
   "outputs": [
    {
     "data": {
      "text/plain": [
       "tensor([[-0.0056,  0.0070,  0.0040,  ..., -0.0023,  0.0122,  0.0023],\n",
       "        [ 0.0186, -0.0117, -0.0007,  ...,  0.0112, -0.0077, -0.0034],\n",
       "        [ 0.0044,  0.0120,  0.0108,  ...,  0.0065,  0.0030, -0.0076],\n",
       "        ...,\n",
       "        [ 0.0044,  0.0164,  0.0146,  ..., -0.0106,  0.0143,  0.0124],\n",
       "        [ 0.0077, -0.0016, -0.0022,  ..., -0.0118,  0.0002,  0.0017],\n",
       "        [ 0.0148, -0.0051, -0.0064,  ...,  0.0125,  0.0092, -0.0037]])"
      ]
     },
     "execution_count": 13,
     "metadata": {},
     "output_type": "execute_result"
    }
   ],
   "source": [
    "q-a"
   ]
  },
  {
   "cell_type": "code",
   "execution_count": 14,
   "metadata": {},
   "outputs": [
    {
     "data": {
      "text/plain": [
       "tensor([[-0.0056,  0.0070,  0.0040,  ..., -0.0023,  0.0122,  0.0023],\n",
       "        [ 0.0186, -0.0117, -0.0007,  ...,  0.0112, -0.0077, -0.0034],\n",
       "        [ 0.0044,  0.0120,  0.0108,  ...,  0.0065,  0.0030, -0.0076],\n",
       "        ...,\n",
       "        [ 0.0044,  0.0164,  0.0146,  ..., -0.0106,  0.0143,  0.0124],\n",
       "        [ 0.0077, -0.0016, -0.0022,  ..., -0.0118,  0.0002,  0.0017],\n",
       "        [ 0.0148, -0.0051, -0.0064,  ...,  0.0125,  0.0092, -0.0037]])"
      ]
     },
     "execution_count": 14,
     "metadata": {},
     "output_type": "execute_result"
    }
   ],
   "source": [
    "error"
   ]
  },
  {
   "cell_type": "code",
   "execution_count": 15,
   "metadata": {},
   "outputs": [],
   "source": [
    "nd = utils.quantize_tensor(a)"
   ]
  },
  {
   "cell_type": "code",
   "execution_count": 10,
   "metadata": {},
   "outputs": [],
   "source": [
    "nq = utils.dequantize(nd)"
   ]
  },
  {
   "cell_type": "code",
   "execution_count": 11,
   "metadata": {},
   "outputs": [
    {
     "data": {
      "text/plain": [
       "tensor(5500.5430)"
      ]
     },
     "execution_count": 11,
     "metadata": {},
     "output_type": "execute_result"
    }
   ],
   "source": [
    "abs(nq-a).sum()"
   ]
  },
  {
   "cell_type": "code",
   "execution_count": null,
   "metadata": {},
   "outputs": [],
   "source": []
  },
  {
   "cell_type": "code",
   "execution_count": 5,
   "metadata": {},
   "outputs": [
    {
     "data": {
      "text/plain": [
       "tensor([[ 0.0117, -0.0040,  0.0144,  ..., -0.0141, -0.0056, -0.0095],\n",
       "        [ 0.0155,  0.0082,  0.0145,  ...,  0.0102, -0.0064, -0.0078],\n",
       "        [-0.0099,  0.0152, -0.0152,  ...,  0.0127,  0.0069,  0.0087],\n",
       "        ...,\n",
       "        [-0.0100, -0.0003,  0.0086,  ...,  0.0085,  0.0148,  0.0101],\n",
       "        [ 0.0063, -0.0122, -0.0024,  ...,  0.0030,  0.0095, -0.0030],\n",
       "        [ 0.0149,  0.0032, -0.0116,  ..., -0.0034, -0.0177, -0.0045]])"
      ]
     },
     "execution_count": 5,
     "metadata": {},
     "output_type": "execute_result"
    }
   ],
   "source": [
    "d.dequantize()-a"
   ]
  },
  {
   "cell_type": "code",
   "execution_count": 6,
   "metadata": {},
   "outputs": [],
   "source": [
    "b=utils.quantize_tensor(a)"
   ]
  },
  {
   "cell_type": "code",
   "execution_count": 7,
   "metadata": {},
   "outputs": [],
   "source": [
    "c=utils.dequantize(b)"
   ]
  },
  {
   "cell_type": "code",
   "execution_count": 8,
   "metadata": {},
   "outputs": [
    {
     "name": "stdout",
     "output_type": "stream",
     "text": [
      "tensor([[-28,  43,  -4,  ...,  45,  19,  55],\n",
      "        [-17,  12, -31,  ...,  20,  41,  -9],\n",
      "        [ -4, -71,   9,  ..., -23,  40,  33],\n",
      "        ...,\n",
      "        [  7,  28,  19,  ...,  10,  39, -14],\n",
      "        [ 31,  42,  14,  ...,   0,  60,  23],\n",
      "        [ 67, -13, -10,  ..., -18,  40,  32]], dtype=torch.int8) tensor(0.0406) tensor(-0.5903)\n"
     ]
    }
   ],
   "source": [
    "print(b.data,b.scale,b.zero_point)"
   ]
  },
  {
   "cell_type": "code",
   "execution_count": 9,
   "metadata": {},
   "outputs": [
    {
     "data": {
      "text/plain": [
       "tensor([[-1.7261,  1.1539, -0.7526,  ...,  1.2350,  0.1804,  1.6407],\n",
       "        [-1.2799, -0.1036, -1.8478,  ...,  0.2209,  1.0728, -0.9554],\n",
       "        [-0.7526, -3.4704, -0.2253,  ..., -1.5233,  1.0322,  0.7483],\n",
       "        ...,\n",
       "        [-0.3064,  0.5455,  0.1804,  ..., -0.1847,  0.9917, -1.1582],\n",
       "        [ 0.6671,  1.1133, -0.0224,  ..., -0.5903,  1.8435,  0.3426],\n",
       "        [ 2.1274, -1.1177, -0.9960,  ..., -1.3205,  1.0322,  0.7077]])"
      ]
     },
     "execution_count": 9,
     "metadata": {},
     "output_type": "execute_result"
    }
   ],
   "source": [
    "c"
   ]
  },
  {
   "cell_type": "code",
   "execution_count": 10,
   "metadata": {},
   "outputs": [
    {
     "name": "stdout",
     "output_type": "stream",
     "text": [
      "tensor([[-28.,  43.,  -4.,  ...,  45.,  19.,  55.],\n",
      "        [-17.,  12., -31.,  ...,  20.,  41.,  -9.],\n",
      "        [ -4., -71.,   9.,  ..., -23.,  40.,  33.],\n",
      "        ...,\n",
      "        [  7.,  28.,  19.,  ...,  10.,  39., -14.],\n",
      "        [ 31.,  42.,  14.,  ...,   0.,  60.,  23.],\n",
      "        [ 67., -13., -10.,  ..., -18.,  40.,  32.]])\n",
      "tensor([[0.0406, 0.0406, 0.0406,  ..., 0.0406, 0.0406, 0.0406],\n",
      "        [0.0406, 0.0406, 0.0406,  ..., 0.0406, 0.0406, 0.0406],\n",
      "        [0.0406, 0.0406, 0.0406,  ..., 0.0406, 0.0406, 0.0406],\n",
      "        ...,\n",
      "        [0.0406, 0.0406, 0.0406,  ..., 0.0406, 0.0406, 0.0406],\n",
      "        [0.0406, 0.0406, 0.0406,  ..., 0.0406, 0.0406, 0.0406],\n",
      "        [0.0406, 0.0406, 0.0406,  ..., 0.0406, 0.0406, 0.0406]])\n",
      "tensor([[-0.5903, -0.5903, -0.5903,  ..., -0.5903, -0.5903, -0.5903],\n",
      "        [-0.5903, -0.5903, -0.5903,  ..., -0.5903, -0.5903, -0.5903],\n",
      "        [-0.5903, -0.5903, -0.5903,  ..., -0.5903, -0.5903, -0.5903],\n",
      "        ...,\n",
      "        [-0.5903, -0.5903, -0.5903,  ..., -0.5903, -0.5903, -0.5903],\n",
      "        [-0.5903, -0.5903, -0.5903,  ..., -0.5903, -0.5903, -0.5903],\n",
      "        [-0.5903, -0.5903, -0.5903,  ..., -0.5903, -0.5903, -0.5903]])\n"
     ]
    }
   ],
   "source": [
    "print(b.data.type(torch.float32))\n",
    "print(torch.full_like(b.data,b.scale,dtype=torch.float32))\n",
    "print(torch.full_like(b.data,b.zero_point,dtype=torch.float32))"
   ]
  },
  {
   "cell_type": "code",
   "execution_count": 11,
   "metadata": {},
   "outputs": [
    {
     "name": "stdout",
     "output_type": "stream",
     "text": [
      "tensor([[-3.9520e-03,  9.5879e-03,  1.0126e-02,  ...,  9.3242e-03,\n",
      "         -3.3493e-03, -8.0663e-03],\n",
      "        [-1.7182e-02,  1.1563e-02, -1.5964e-02,  ...,  1.7336e-02,\n",
      "         -2.6834e-03, -1.1044e-03],\n",
      "        [-1.4109e-02,  1.4019e-03,  8.9580e-03,  ..., -1.3891e-02,\n",
      "          5.6862e-03,  8.6573e-03],\n",
      "        ...,\n",
      "        [ 4.3052e-03,  1.0582e-02,  1.0756e-02,  ...,  1.9352e-03,\n",
      "          8.6573e-03, -7.8233e-03],\n",
      "        [-3.5992e-03, -3.5570e-03,  1.0785e-02,  ...,  1.8474e-02,\n",
      "         -2.4438e-05,  1.8953e-02],\n",
      "        [ 4.2744e-03, -9.7371e-03, -9.7668e-03,  ..., -5.3822e-03,\n",
      "          1.6744e-02, -9.5167e-03]])\n",
      "tensor([[-1.7222,  1.1443, -0.7627,  ...,  1.2257,  0.1837,  1.6487],\n",
      "        [-1.2627, -0.1151, -1.8318,  ...,  0.2036,  1.0755, -0.9543],\n",
      "        [-0.7385, -3.4718, -0.2342,  ..., -1.5094,  1.0265,  0.7396],\n",
      "        ...,\n",
      "        [-0.3107,  0.5349,  0.1696,  ..., -0.1866,  0.9830, -1.1504],\n",
      "        [ 0.6707,  1.1169, -0.0332,  ..., -0.6088,  1.8435,  0.3237],\n",
      "        [ 2.1232, -1.1079, -0.9862,  ..., -1.3151,  1.0155,  0.7172]])\n"
     ]
    }
   ],
   "source": [
    "print((b.data.type(torch.float32)*torch.full_like(b.data,b.scale,dtype=torch.float32)+torch.full_like(b.data,b.zero_point,dtype=torch.float32)-a))\n",
    "print(a)"
   ]
  },
  {
   "cell_type": "code",
   "execution_count": 12,
   "metadata": {},
   "outputs": [
    {
     "name": "stdout",
     "output_type": "stream",
     "text": [
      "tensor([[-1.7261,  1.1539, -0.7526,  ...,  1.2350,  0.1804,  1.6407],\n",
      "        [-1.2799, -0.1036, -1.8478,  ...,  0.2209,  1.0728, -0.9554],\n",
      "        [-0.7526, -3.4704, -0.2253,  ..., -1.5233,  1.0322,  0.7483],\n",
      "        ...,\n",
      "        [-0.3064,  0.5455,  0.1804,  ..., -0.1847,  0.9917, -1.1582],\n",
      "        [ 0.6671,  1.1133, -0.0224,  ..., -0.5903,  1.8435,  0.3426],\n",
      "        [ 2.1274, -1.1177, -0.9960,  ..., -1.3205,  1.0322,  0.7077]]) tensor([[-1.7222,  1.1443, -0.7627,  ...,  1.2257,  0.1837,  1.6487],\n",
      "        [-1.2627, -0.1151, -1.8318,  ...,  0.2036,  1.0755, -0.9543],\n",
      "        [-0.7385, -3.4718, -0.2342,  ..., -1.5094,  1.0265,  0.7396],\n",
      "        ...,\n",
      "        [-0.3107,  0.5349,  0.1696,  ..., -0.1866,  0.9830, -1.1504],\n",
      "        [ 0.6707,  1.1169, -0.0332,  ..., -0.6088,  1.8435,  0.3237],\n",
      "        [ 2.1232, -1.1079, -0.9862,  ..., -1.3151,  1.0155,  0.7172]])\n"
     ]
    }
   ],
   "source": [
    "print(c,a)"
   ]
  },
  {
   "cell_type": "code",
   "execution_count": 13,
   "metadata": {},
   "outputs": [
    {
     "data": {
      "text/plain": [
       "tensor(0.0406)"
      ]
     },
     "execution_count": 13,
     "metadata": {},
     "output_type": "execute_result"
    }
   ],
   "source": [
    "b.scale"
   ]
  },
  {
   "cell_type": "code",
   "execution_count": 14,
   "metadata": {},
   "outputs": [
    {
     "data": {
      "text/plain": [
       "tensor(0.0203)"
      ]
     },
     "execution_count": 14,
     "metadata": {},
     "output_type": "execute_result"
    }
   ],
   "source": [
    "(c-a).max()"
   ]
  },
  {
   "cell_type": "code",
   "execution_count": 15,
   "metadata": {},
   "outputs": [
    {
     "data": {
      "text/plain": [
       "tensor(1.5323)"
      ]
     },
     "execution_count": 15,
     "metadata": {},
     "output_type": "execute_result"
    }
   ],
   "source": [
    "(torch.quantize_per_tensor(a,float(a.max()/128),0,dtype = torch.qint8).data[0][711]).dequantize()"
   ]
  },
  {
   "cell_type": "code",
   "execution_count": 18,
   "metadata": {},
   "outputs": [
    {
     "data": {
      "text/plain": [
       "tensor(1.1807)"
      ]
     },
     "execution_count": 18,
     "metadata": {},
     "output_type": "execute_result"
    }
   ],
   "source": [
    "(d.dequantize()-a).max()"
   ]
  },
  {
   "cell_type": "code",
   "execution_count": 20,
   "metadata": {},
   "outputs": [
    {
     "data": {
      "text/plain": [
       "tensor([[-1.7105,  1.1403, -0.7483,  ...,  1.2116,  0.1782,  1.6392],\n",
       "        [-1.2472, -0.1069, -1.8174,  ...,  0.2138,  1.0690, -0.9621],\n",
       "        [-0.7483, -3.4566, -0.2494,  ..., -1.4967,  1.0334,  0.7483],\n",
       "        ...,\n",
       "        [-0.3207,  0.5345,  0.1782,  ..., -0.1782,  0.9978, -1.1403],\n",
       "        [ 0.6771,  1.1047, -0.0356,  ..., -0.6058,  1.8530,  0.3207],\n",
       "        [ 2.1381, -1.1047, -0.9978,  ..., -1.3185,  0.9978,  0.7127]],\n",
       "       size=(1000, 1000), dtype=torch.qint8,\n",
       "       quantization_scheme=torch.per_tensor_affine, scale=0.03563489764928818,\n",
       "       zero_point=0)"
      ]
     },
     "execution_count": 20,
     "metadata": {},
     "output_type": "execute_result"
    }
   ],
   "source": [
    "d"
   ]
  },
  {
   "cell_type": "code",
   "execution_count": null,
   "metadata": {},
   "outputs": [],
   "source": []
  }
 ],
 "metadata": {
  "kernelspec": {
   "display_name": "fedml",
   "language": "python",
   "name": "python3"
  },
  "language_info": {
   "codemirror_mode": {
    "name": "ipython",
    "version": 3
   },
   "file_extension": ".py",
   "mimetype": "text/x-python",
   "name": "python",
   "nbconvert_exporter": "python",
   "pygments_lexer": "ipython3",
   "version": "3.7.13 (default, Mar 29 2022, 02:18:16) \n[GCC 7.5.0]"
  },
  "orig_nbformat": 4,
  "vscode": {
   "interpreter": {
    "hash": "b7becca21031a75fcce25f856d0488bf55c93e1512956ab634aaf2c6b276b8fe"
   }
  }
 },
 "nbformat": 4,
 "nbformat_minor": 2
}
